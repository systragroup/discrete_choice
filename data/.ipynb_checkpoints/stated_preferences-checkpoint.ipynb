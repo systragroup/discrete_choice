{
 "cells": [
  {
   "cell_type": "code",
   "execution_count": 1,
   "metadata": {},
   "outputs": [
    {
     "ename": "ModuleNotFoundError",
     "evalue": "No module named 'orthogonal'",
     "output_type": "error",
     "traceback": [
      "\u001b[1;31m---------------------------------------------------------------------------\u001b[0m",
      "\u001b[1;31mModuleNotFoundError\u001b[0m                       Traceback (most recent call last)",
      "\u001b[1;32m<ipython-input-1-db7383c5ed64>\u001b[0m in \u001b[0;36m<module>\u001b[1;34m\u001b[0m\n\u001b[0;32m      3\u001b[0m \u001b[1;32mfrom\u001b[0m \u001b[0mopenpyxl\u001b[0m \u001b[1;32mimport\u001b[0m \u001b[0mload_workbook\u001b[0m\u001b[1;33m\u001b[0m\u001b[1;33m\u001b[0m\u001b[0m\n\u001b[0;32m      4\u001b[0m \u001b[1;33m\u001b[0m\u001b[0m\n\u001b[1;32m----> 5\u001b[1;33m \u001b[1;32mfrom\u001b[0m \u001b[0morthogonal\u001b[0m \u001b[1;32mimport\u001b[0m \u001b[0mdiscrete_choice\u001b[0m\u001b[1;33m\u001b[0m\u001b[1;33m\u001b[0m\u001b[0m\n\u001b[0m",
      "\u001b[1;31mModuleNotFoundError\u001b[0m: No module named 'orthogonal'"
     ]
    }
   ],
   "source": [
    "import pandas as pd\n",
    "import numpy as np\n",
    "from openpyxl import load_workbook\n",
    "\n",
    "from orthogonal import discrete_choice"
   ]
  },
  {
   "cell_type": "code",
   "execution_count": null,
   "metadata": {},
   "outputs": [],
   "source": []
  },
  {
   "cell_type": "code",
   "execution_count": 5,
   "metadata": {},
   "outputs": [],
   "source": [
    "zodiacus = pd.read_csv('zodiacus.txt', names=['code'])"
   ]
  },
  {
   "cell_type": "code",
   "execution_count": 6,
   "metadata": {},
   "outputs": [],
   "source": [
    "#zodiac.sort_values(['code'], inplace=True)\n",
    "zodiacus['block'] = range(1, 13)"
   ]
  },
  {
   "cell_type": "code",
   "execution_count": 14,
   "metadata": {},
   "outputs": [],
   "source": [
    "file = 'input_values.xlsx'\n",
    "out_file = 'orthogonal_arrays.xlsx'\n",
    "\n",
    "book = load_workbook(file)\n",
    "\n",
    "segments = ['bus', 'modes']\n",
    "\n",
    "def get_oa(sheet_name, blocks=None, *args, **kwargs):\n",
    "    \n",
    "    # without blocks\n",
    "    frame = pd.read_excel(file, sheet_name=sheet_name)\n",
    "    factors = {\n",
    "        name: list(frame[name].dropna())\n",
    "        for name in frame.columns\n",
    "\n",
    "    }\n",
    "    if blocks is not None:\n",
    "        factors.update({'block': range(1, blocks+1)})\n",
    "        \n",
    "    oa = discrete_choice.orthogonal_array(factors, verbose=True)\n",
    "    if blocks is not None:\n",
    "        oa = oa.sort_values('block').reset_index(drop=True)\n",
    "    oa['index'] = range(1, len(oa)+1)\n",
    "    if blocks is not None:\n",
    "        oa = pd.merge(oa, zodiacus, on='block', how='left')\n",
    "\n",
    "    return oa\n",
    "\n",
    "def write_oa(sheet_name, *args, **kwargs):\n",
    "    oa = get_oa(sheet_name, *args, **kwargs)\n",
    "\n",
    "    with pd.ExcelWriter(out_file, engine='openpyxl') as writer:\n",
    "        writer.book = book\n",
    "        oa.to_excel(writer, sheet_name='oa_' + sheet_name, index=False)\n",
    "        writer.save()"
   ]
  },
  {
   "cell_type": "markdown",
   "metadata": {},
   "source": [
    "# EXAMPLE"
   ]
  },
  {
   "cell_type": "code",
   "execution_count": 59,
   "metadata": {},
   "outputs": [
    {
     "name": "stdout",
     "output_type": "stream",
     "text": [
      "required array class:\n",
      "{4: 8, 12: 1}\n",
      "available array classes (using first one): \n",
      "50    {4: 12, 12: 1}\n",
      "Name: exponents, dtype: object\n"
     ]
    },
    {
     "data": {
      "text/html": [
       "<div>\n",
       "<style scoped>\n",
       "    .dataframe tbody tr th:only-of-type {\n",
       "        vertical-align: middle;\n",
       "    }\n",
       "\n",
       "    .dataframe tbody tr th {\n",
       "        vertical-align: top;\n",
       "    }\n",
       "\n",
       "    .dataframe thead th {\n",
       "        text-align: right;\n",
       "    }\n",
       "</style>\n",
       "<table border=\"1\" class=\"dataframe\">\n",
       "  <thead>\n",
       "    <tr style=\"text-align: right;\">\n",
       "      <th></th>\n",
       "      <th>time_a</th>\n",
       "      <th>time_b</th>\n",
       "      <th>cost_a</th>\n",
       "      <th>cost_b</th>\n",
       "      <th>transfers_a</th>\n",
       "      <th>transfers_b</th>\n",
       "      <th>waiting_time_a</th>\n",
       "      <th>waiting_time_b</th>\n",
       "      <th>block</th>\n",
       "      <th>index</th>\n",
       "      <th>code</th>\n",
       "    </tr>\n",
       "  </thead>\n",
       "  <tbody>\n",
       "    <tr>\n",
       "      <th>0</th>\n",
       "      <td>15</td>\n",
       "      <td>15</td>\n",
       "      <td>3</td>\n",
       "      <td>3</td>\n",
       "      <td>0</td>\n",
       "      <td>0</td>\n",
       "      <td>0</td>\n",
       "      <td>0</td>\n",
       "      <td>1</td>\n",
       "      <td>1</td>\n",
       "      <td>aries</td>\n",
       "    </tr>\n",
       "    <tr>\n",
       "      <th>1</th>\n",
       "      <td>45</td>\n",
       "      <td>45</td>\n",
       "      <td>10</td>\n",
       "      <td>10</td>\n",
       "      <td>0</td>\n",
       "      <td>0</td>\n",
       "      <td>5</td>\n",
       "      <td>5</td>\n",
       "      <td>1</td>\n",
       "      <td>2</td>\n",
       "      <td>aries</td>\n",
       "    </tr>\n",
       "    <tr>\n",
       "      <th>2</th>\n",
       "      <td>30</td>\n",
       "      <td>30</td>\n",
       "      <td>5</td>\n",
       "      <td>5</td>\n",
       "      <td>1</td>\n",
       "      <td>1</td>\n",
       "      <td>2</td>\n",
       "      <td>2</td>\n",
       "      <td>1</td>\n",
       "      <td>3</td>\n",
       "      <td>aries</td>\n",
       "    </tr>\n",
       "    <tr>\n",
       "      <th>3</th>\n",
       "      <td>60</td>\n",
       "      <td>60</td>\n",
       "      <td>20</td>\n",
       "      <td>20</td>\n",
       "      <td>1</td>\n",
       "      <td>1</td>\n",
       "      <td>8</td>\n",
       "      <td>8</td>\n",
       "      <td>1</td>\n",
       "      <td>4</td>\n",
       "      <td>aries</td>\n",
       "    </tr>\n",
       "    <tr>\n",
       "      <th>4</th>\n",
       "      <td>45</td>\n",
       "      <td>45</td>\n",
       "      <td>10</td>\n",
       "      <td>3</td>\n",
       "      <td>0</td>\n",
       "      <td>0</td>\n",
       "      <td>2</td>\n",
       "      <td>2</td>\n",
       "      <td>2</td>\n",
       "      <td>5</td>\n",
       "      <td>taurus</td>\n",
       "    </tr>\n",
       "  </tbody>\n",
       "</table>\n",
       "</div>"
      ],
      "text/plain": [
       "   time_a  time_b  cost_a  cost_b  transfers_a  transfers_b  waiting_time_a  \\\n",
       "0      15      15       3       3            0            0               0   \n",
       "1      45      45      10      10            0            0               5   \n",
       "2      30      30       5       5            1            1               2   \n",
       "3      60      60      20      20            1            1               8   \n",
       "4      45      45      10       3            0            0               2   \n",
       "\n",
       "   waiting_time_b  block  index    code  \n",
       "0               0      1      1   aries  \n",
       "1               5      1      2   aries  \n",
       "2               2      1      3   aries  \n",
       "3               8      1      4   aries  \n",
       "4               2      2      5  taurus  "
      ]
     },
     "execution_count": 59,
     "metadata": {},
     "output_type": "execute_result"
    }
   ],
   "source": [
    "oa_example = get_oa(sheet_name='costs',blocks=12)\n",
    "oa_example.head()"
   ]
  },
  {
   "cell_type": "markdown",
   "metadata": {},
   "source": [
    "___\n",
    "# «costs» sheet\n",
    "The cost, number of transfers and waiting time values are provided in the input spreadsheet"
   ]
  },
  {
   "cell_type": "code",
   "execution_count": 49,
   "metadata": {},
   "outputs": [
    {
     "name": "stdout",
     "output_type": "stream",
     "text": [
      "required array class:\n",
      "{4: 8, 12: 1}\n",
      "available array classes (using first one): \n",
      "50    {4: 12, 12: 1}\n",
      "Name: exponents, dtype: object\n"
     ]
    }
   ],
   "source": [
    "df = get_oa('costs', blocks=12)\n",
    "costs = ['time', 'cost', 'transfers', 'waiting_time']\n",
    "\n",
    "# DROP OBVIOUS SCENARIOS\n",
    "cost_delta = []\n",
    "for cost in costs:\n",
    "    df[cost + '_delta'] = df[cost+'_b'] - df[cost+'_a'] \n",
    "    cost_delta.append(cost + '_delta')\n",
    "    \n",
    "df['usefull'] = (df[cost_delta].T.min() < 0) & (df[cost_delta].T.max() > 0)\n",
    "df = df.loc[df['usefull'] == True]\n",
    "\n",
    "df.drop(cost_delta + ['usefull', 'code'], axis=1, inplace=True, errors='ignore')\n",
    "\n",
    "# ADD INDEX AND BLOCK INDEX\n",
    "df.reset_index(drop=True, inplace=True)\n",
    "df['index'] = df.index + 1\n",
    "\n",
    "block_len = 4\n",
    "df['block'] = (df.index / block_len + 1).astype(int)\n",
    "oa_costs = df.copy()"
   ]
  },
  {
   "cell_type": "markdown",
   "metadata": {},
   "source": [
    "# «modes» sheet\n",
    "The bus time and cost values are provided in the spreadsheet.\n",
    "The other modes' levels of service are built from ratios."
   ]
  },
  {
   "cell_type": "code",
   "execution_count": 52,
   "metadata": {},
   "outputs": [
    {
     "name": "stdout",
     "output_type": "stream",
     "text": [
      "required array class:\n",
      "{4: 9, 12: 1}\n",
      "available array classes (using first one): \n",
      "50    {4: 12, 12: 1}\n",
      "Name: exponents, dtype: object\n"
     ]
    }
   ],
   "source": [
    "# ORTHOGONAL ARRAY BUILT\n",
    "df = get_oa('modes', blocks=12)\n",
    "\n",
    "# AVAILABILITY\n",
    "df['availability_motorcycle'] = True\n",
    "df['availability_bajaj_contract'] = True\n",
    "\n",
    "# LEVELS OF SERVICE AND \n",
    "df['motorcycle_time'] = df['bus_time'] * df['motorcycle_ratio']\n",
    "df['bicycle_time'] = df['bus_time'] * df['bicycle_ratio']\n",
    "df['walking_time'] = df['bicycle_time'] * df['walking_ratio']\n",
    "df['bajaj_contract_time'] = df['bus_time'] * df['bajaj_contract_ratio']\n",
    "df['bajaj_time'] = df['bus_time'] * df['bajaj_ratio']\n",
    "\n",
    "df.loc[df['bajaj_contract_time'] > df['bajaj_time'], 'bajaj_contract_time'] = 0\n",
    "#df.loc[df['motorcycle_time'] > df['bajaj_time'], 'motorcycle_time'] = 0\n",
    "\n",
    "oa_modes = df.copy()"
   ]
  },
  {
   "cell_type": "markdown",
   "metadata": {},
   "source": [
    "# Writing Arrays"
   ]
  },
  {
   "cell_type": "code",
   "execution_count": 53,
   "metadata": {},
   "outputs": [],
   "source": [
    "frames = pd.read_excel('input_values.xlsx', sheet_name=None)\n",
    "frames['oa_costs'] = oa_costs "
   ]
  },
  {
   "cell_type": "code",
   "execution_count": 54,
   "metadata": {},
   "outputs": [],
   "source": [
    "frames['oa_modes'] = oa_modes[[\n",
    "    'bus_time', 'bus_cost', 'bajaj_contract_time', 'bajaj_contract_cost',\n",
    "    'bajaj_time', 'bajaj_cost',\n",
    "    'walking_time', 'bicycle_time',\n",
    "    'index', 'block'\n",
    "]].astype(int)\n",
    "frames['oa_modes']['code'] = df['code']"
   ]
  },
  {
   "cell_type": "code",
   "execution_count": 55,
   "metadata": {},
   "outputs": [],
   "source": [
    "with pd.ExcelWriter(out_file, engine='xlsxwriter') as writer:\n",
    "    for key, value in frames.items():\n",
    "        value.to_excel(writer, sheet_name=key)"
   ]
  }
 ],
 "metadata": {
  "anaconda-cloud": {},
  "kernelspec": {
   "display_name": "Python [conda env:anaconda3-quetzal_env]",
   "language": "python",
   "name": "conda-env-anaconda3-quetzal_env-py"
  },
  "language_info": {
   "codemirror_mode": {
    "name": "ipython",
    "version": 3
   },
   "file_extension": ".py",
   "mimetype": "text/x-python",
   "name": "python",
   "nbconvert_exporter": "python",
   "pygments_lexer": "ipython3",
   "version": "3.7.5"
  }
 },
 "nbformat": 4,
 "nbformat_minor": 2
}
